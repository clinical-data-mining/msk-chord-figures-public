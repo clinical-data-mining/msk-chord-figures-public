{
 "cells": [
  {
   "cell_type": "code",
   "execution_count": 1,
   "metadata": {},
   "outputs": [],
   "source": [
    "import torch\n",
    "from transformers import RobertaTokenizer, LongformerTokenizer, LongformerForSequenceClassification\n",
    "#from longformer.sliding_chunks import pad_to_window_size\n",
    "from sklearn.model_selection import train_test_split\n",
    "from tqdm.notebook import tqdm\n",
    "import pandas as pd\n",
    "import matplotlib.pyplot as plt\n",
    "import numpy as np\n",
    "\n",
    "# for loading in radiology report data only; substitute for your own data system\n",
    "from mind_minio_client import client"
   ]
  },
  {
   "cell_type": "code",
   "execution_count": 2,
   "metadata": {},
   "outputs": [
    {
     "name": "stderr",
     "output_type": "stream",
     "text": [
      "/tmp/ipykernel_3649991/134970165.py:12: DtypeWarning: Columns (15,17,19,22,29,30,41,42,45,46,47,48) have mixed types. Specify dtype option on import or set low_memory=False.\n",
      "  impact = pd.read_csv('data/data_clinical_sample_9_29_23.oncokb.txt',sep='\\t')\n"
     ]
    }
   ],
   "source": [
    "# ***NOTE: not meant to run alone (requires PHI/radiology reports)\n",
    "\n",
    "cancers_of_interest = ['nsclc','brca','prostate','crc','panc']\n",
    "\n",
    "cancer2df_master_current_tx = {}\n",
    "\n",
    "for c in cancers_of_interest:\n",
    "    cancer2df_master_current_tx[c] = pd.read_csv( '*DATA FILES HERE*' )"
   ]
  },
  {
   "cell_type": "code",
   "execution_count": 3,
   "metadata": {},
   "outputs": [],
   "source": [
    "# load radiology and outcomes data\n",
    "obj = client.get_object('cdm-data','demographics/ddp_demographics.tsv')\n",
    "demographics = pd.read_csv(obj,sep='\\t')\n",
    "\n",
    "obj = client.get_object('cdm-data','radiology/intermediate_files/ddp_radiology_reports_bkup.tsv')\n",
    "radiology = pd.read_csv(obj,sep='\\t')\n",
    "radiology['RADIOLOGY_PERFORMED_DATE']=pd.to_datetime(radiology['RADIOLOGY_PERFORMED_DATE'],errors='coerce')"
   ]
  },
  {
   "cell_type": "code",
   "execution_count": 4,
   "metadata": {},
   "outputs": [
    {
     "data": {
      "image/png": "[encoded data removed]",
      "text/plain": [
       "<Figure size 640x480 with 1 Axes>"
      ]
     },
     "metadata": {},
     "output_type": "display_data"
    }
   ],
   "source": [
    "coi = 'nsclc'\n",
    "include_set = ['NECK/CAP - FDG (skull base to mid thigh)','PET','Chest/Abdomen/Pelvis w/ Con','CT CH/ABD/PEL W/ CON']\n",
    "ctap = radiology[radiology.RADIOLOGY_PROCEDURE_NAME.isin(include_set)]\n",
    "\n",
    "\n",
    "df_master_allreports = pd.merge(demographics,ctap,on='MRN')\n",
    "datecols = ['PT_DEATH_DTE','PLA_LAST_ACTV_DTE']\n",
    "df_master_allreports[datecols] = df_master_allreports[datecols].apply(pd.to_datetime, errors='coerce')\n",
    "\n",
    "df_master_allreports['dt_death'] = (df_master_allreports['PT_DEATH_DTE']-df_master_allreports['RADIOLOGY_PERFORMED_DATE']).dt.days\n",
    "df_master_allreports['dt_last'] = (df_master_allreports['PLA_LAST_ACTV_DTE']-df_master_allreports['RADIOLOGY_PERFORMED_DATE']).dt.days\n",
    "\n",
    "# format for pytorch training\n",
    "plt.hist(df_master_allreports['dt_last'],bins=20)\n",
    "plt.hist(df_master_allreports['dt_death'],bins=20)\n",
    "\n",
    "interval=180\n",
    "\n",
    "df_master_allreports['died_interval'] = df_master_allreports['dt_death']<interval\n",
    "df_final_allreports = df_master_allreports[['RRPT_REPORT_TXT','died_interval','dt_last']]\n",
    "df_final_allreports = df_final_allreports[(df_final_allreports['dt_last']>=interval) | df_final_allreports['died_interval']]\n",
    "df_final_allreports['died_interval'] = df_final_allreports['died_interval'].astype(int)\n",
    "\n",
    "df_master_allreports = pd.merge(df_master_allreports,\n",
    "         cancer2df_master_current_tx[coi][['MRN','DATE_SEQUENCING_REPORT']],\n",
    "         on='MRN')\n",
    "df_master_allreports['dt_seq-rad'] = (df_master_allreports['DATE_SEQUENCING_REPORT']-df_master_allreports['RADIOLOGY_PERFORMED_DATE']).dt.days"
   ]
  },
  {
   "cell_type": "code",
   "execution_count": 23,
   "metadata": {},
   "outputs": [],
   "source": [
    "# identify patients with time-matched sequencing-radiology for downstream analysis\n",
    "df_seqAnchor = pd.merge(cancer2df_master_current_tx[coi],ctap,on='MRN')\n",
    "df_seqAnchor['dt_rad-seq'] = (df_seqAnchor['RADIOLOGY_PERFORMED_DATE']-df_seqAnchor['DATE_SEQUENCING_REPORT']).dt.days\n",
    "\n",
    "# select closest report per patient\n",
    "df_seqAnchor = df_seqAnchor[(df_seqAnchor['dt_rad-seq']<=0) & (df_seqAnchor['dt_rad-seq']>-90)]\n",
    "df_seqAnchor = df_seqAnchor.sort_values(by=['dt_rad-seq','MRN'],ascending=False).drop_duplicates(subset='MRN')\n",
    "\n",
    "interval=180\n",
    "\n",
    "df_seqAnchor['died_interval'] = (df_seqAnchor['stop']<interval) & (df_seqAnchor['dead'])"
   ]
  },
  {
   "cell_type": "code",
   "execution_count": 24,
   "metadata": {},
   "outputs": [
    {
     "name": "stderr",
     "output_type": "stream",
     "text": [
      "/tmp/ipykernel_2616261/1381053025.py:4: SettingWithCopyWarning: \n",
      "A value is trying to be set on a copy of a slice from a DataFrame.\n",
      "Try using .loc[row_indexer,col_indexer] = value instead\n",
      "\n",
      "See the caveats in the documentation: https://pandas.pydata.org/pandas-docs/stable/user_guide/indexing.html#returning-a-view-versus-a-copy\n",
      "  df_master['stop'] = df_master['dt_last']\n"
     ]
    }
   ],
   "source": [
    "# for NLP-surv training use reports from remaining patients\n",
    "df_master = df_master_allreports[~df_master_allreports.MRN.isin(df_seqAnchor.MRN.unique()) &\\\n",
    "                    (df_master_allreports['dt_seq-rad']<=0)]\n",
    "df_master['stop'] = df_master['dt_last']\n",
    "\n",
    "df_master_first = df_master.sort_values(by='dt_last',ascending=False).drop_duplicates(subset='MRN')\n",
    "df_master_last = df_master.sort_values(by='dt_last').drop_duplicates(subset='MRN')\n",
    "df_master = pd.concat([df_master_first,df_master_last]).drop_duplicates()\n",
    "\n",
    "df_final = df_master[['RRPT_REPORT_TXT','died_interval','stop','MRN']]\n",
    "df_final = df_final[(df_final['stop']>=interval) | df_final['died_interval']]\n",
    "df_final['died_interval'] = df_final['died_interval'].astype(int)\n",
    "\n",
    "X_train, X_val, y_train, y_val=train_test_split(\n",
    "    df_final['RRPT_REPORT_TXT'],\n",
    "    df_final['died_interval'],\n",
    "    test_size=0.2,\n",
    "    random_state=42,\n",
    "    stratify=df_final['died_interval']\n",
    ")\n",
    "\n",
    "df_final.loc[X_train.index, 'data_type'] = 'train'\n",
    "df_final.loc[X_val.index, 'data_type'] = 'val'\n",
    "\n",
    "df_final = df_final.drop(columns='stop')\n",
    "df_final.columns = ['text', 'labels', 'MRN','data_type']"
   ]
  },
  {
   "cell_type": "code",
   "execution_count": 25,
   "metadata": {},
   "outputs": [
    {
     "name": "stderr",
     "output_type": "stream",
     "text": [
      "Some weights of LongformerForSequenceClassification were not initialized from the model checkpoint at /mind_data/jeej/models/nlp/Clinical-Longformer and are newly initialized: ['classifier.dense.bias', 'classifier.out_proj.bias', 'classifier.dense.weight', 'classifier.out_proj.weight']\n",
      "You should probably TRAIN this model on a down-stream task to be able to use it for predictions and inference.\n"
     ]
    },
    {
     "name": "stdout",
     "output_type": "stream",
     "text": [
      "CPU times: user 9.82 s, sys: 733 ms, total: 10.6 s\n",
      "Wall time: 8.14 s\n"
     ]
    }
   ],
   "source": [
    "%%time\n",
    "\n",
    "tokenizer = LongformerTokenizer.from_pretrained(\"/mind_data/jeej/models/nlp/Clinical-Longformer\")\n",
    "model = LongformerForSequenceClassification.from_pretrained(\"/mind_data/jeej/models/nlp/Clinical-Longformer\",output_attentions=False,output_hidden_states=False)\n",
    "\n",
    "encoded_data_train=tokenizer.batch_encode_plus(\n",
    "    df_final[df_final.data_type=='train'].text.values,\n",
    "    add_special_tokens=True, #BERT's way of knowing when a sentence ends/begins\n",
    "    return_attention_mask=True, #B/c using fixed input; set max_length to 6K\n",
    "    #pad_to_max_length=True,\n",
    "    padding='max_length',\n",
    "    truncation=True,\n",
    "    max_length=2000, #4096, #512, #6000, #A document won't have more than 6K words #Note, if this is 'None', will truncate words to 512\n",
    "    return_tensors='pt' #For using pytorch; tensorflow another option\n",
    ")\n",
    "\n",
    "encoded_data_val=tokenizer.batch_encode_plus(\n",
    "    df_final[df_final.data_type=='val'].text.values,\n",
    "    add_special_tokens=True, #BERT's way of knowing when a sentence ends/begins\n",
    "    return_attention_mask=True, #B/c using fixed input; set max_length to 6K\n",
    "    #pad_to_max_length=True,\n",
    "    padding='max_length',\n",
    "    truncation=True,\n",
    "    max_length= 2000, #4096, #512, #6000, #A document won't have more than 6K words #Note, if this is 'None', will truncate words to 512\n",
    "    return_tensors='pt' #For using pytorch; tensorflow another option\n",
    ")\n",
    "\n",
    "#Bert requires input ids, attention masks, and training labels\n",
    "input_ids_train=encoded_data_train['input_ids'] #represents each word as a number\n",
    "attention_masks_train=encoded_data_train['attention_mask'] #pytorch tensor\n",
    "labels_train= torch.tensor(df_final[df_final.data_type=='train'].labels.values)\n",
    "\n",
    "#Bert requires input ids, attention masks, and training labels\n",
    "input_ids_val=encoded_data_val['input_ids'] #represents each word as a number\n",
    "attention_masks_val=encoded_data_val['attention_mask'] #pytorch tensor\n",
    "labels_val= torch.tensor(df_final[df_final.data_type=='val'].labels.values)"
   ]
  },
  {
   "cell_type": "code",
   "execution_count": 26,
   "metadata": {},
   "outputs": [],
   "source": [
    "from torch.utils.data import TensorDataset\n",
    "from torch.utils.data import DataLoader, WeightedRandomSampler, SequentialSampler #Random Sampler for training in batches; Sequential for validation\n",
    "from transformers import AdamW, get_linear_schedule_with_warmup #defining our learning rate, and how it changes for each epoch; Adam w/ weight decay\n",
    "\n",
    "dataset_train=TensorDataset(input_ids_train, attention_masks_train, labels_train)\n",
    "dataset_val=TensorDataset(input_ids_val, attention_masks_val, labels_val)\n",
    "\n",
    "training_labels = df_final[df_final.data_type=='train']['labels']\n",
    "class_sample_count = training_labels.value_counts()\n",
    "weight = 1 / class_sample_count\n",
    "samples_weight = np.array([weight[t] for t in training_labels])\n",
    "samples_weight = torch.from_numpy(samples_weight)\n",
    "samples_weight = samples_weight.double()\n",
    "sampler = WeightedRandomSampler(samples_weight, len(samples_weight))\n",
    "    \n",
    "batch_size=4 #32 # if machine/virtual machine is resource limited, lower the batch size\n",
    "dataloader_train=DataLoader(\n",
    "    dataset_train,\n",
    "    sampler=sampler, #prevents model from learning sequence based data\n",
    "    batch_size=batch_size\n",
    ")\n",
    "dataloader_val=DataLoader(\n",
    "    dataset_val,\n",
    "    sampler=SequentialSampler(dataset_val), \n",
    "    batch_size=batch_size #32 #fine bc not computationally heavy w/ backpropagation etc.\n",
    ")\n",
    "\n",
    "optimizer=torch.optim.AdamW( #stochastic optimization of weights\n",
    "    model.parameters(),\n",
    "    lr=1e-6, #original bert paper recommends 2e-5>5e-5 for learning rate\n",
    "    eps=1e-8 #default\n",
    ")\n",
    "\n",
    "epochs=10 #based on experience, times of training dataset\n",
    "scheduler= get_linear_schedule_with_warmup(\n",
    "    optimizer, \n",
    "    num_warmup_steps=0,\n",
    "    num_training_steps= len(dataloader_train)*epochs #num iterations/training steps\n",
    ")"
   ]
  },
  {
   "cell_type": "code",
   "execution_count": 27,
   "metadata": {},
   "outputs": [],
   "source": [
    "from sklearn.metrics import f1_score\n",
    "\n",
    "def f1_score_func(preds, labels):\n",
    "    #we want to return probabilities into binary predictions\n",
    "    preds_flat=np.argmax(preds, axis=1).flatten()\n",
    "    labels_flat=labels.flatten()\n",
    "    return f1_score(labels_flat, preds_flat, average='weighted') #weights each class based on how many sampels exist\n",
    "\n",
    "def accuracy_per_class(preds, labels, label_dict):\n",
    "    #print accuracy per class\n",
    "    label_dict_inverse= {v: k for k, v in label_dict.items()}\n",
    "    preds_flat=np.argmax(preds, axis=1).flatten()\n",
    "    labels_flat=labels.flatten()\n",
    "    for label in np.unique(labels_flat):\n",
    "        y_preds=preds_flat[labels_flat==label]\n",
    "        y_true=labels_flat[labels_flat==label]\n",
    "        print(f'Class: {label_dict_inverse[label]}')\n",
    "        print(f'Accuracy: {len(y_preds[y_preds==label])}/{len(y_true)}; {len(y_preds[y_preds==label])/len(y_true)}\\n')"
   ]
  },
  {
   "cell_type": "code",
   "execution_count": 28,
   "metadata": {},
   "outputs": [
    {
     "name": "stdout",
     "output_type": "stream",
     "text": [
      "cuda:3\n"
     ]
    }
   ],
   "source": [
    "import random\n",
    "import numpy as np\n",
    "\n",
    "seed_val = 42\n",
    "random.seed(seed_val)\n",
    "np.random.seed(seed_val)\n",
    "torch.manual_seed(seed_val)\n",
    "torch.cuda.manual_seed_all(seed_val) #useful for gpu enabled machine i.e. google colab\n",
    "\n",
    "device=torch.device('cuda:3' if torch.cuda.is_available() else 'cpu')\n",
    "model.to(device)\n",
    "print(device)"
   ]
  },
  {
   "cell_type": "code",
   "execution_count": 29,
   "metadata": {},
   "outputs": [],
   "source": [
    "def evaluate(dataloader_val):\n",
    "\n",
    "    model.eval()\n",
    "    \n",
    "    loss_val_total = 0\n",
    "    predictions, true_vals = [], []\n",
    "    \n",
    "    for batch in tqdm(dataloader_val):\n",
    "        \n",
    "        batch = tuple(b.to(device) for b in batch)\n",
    "        \n",
    "        inputs = {'input_ids':      batch[0],\n",
    "                  'attention_mask': batch[1],\n",
    "                  'labels':         batch[2],\n",
    "                 }\n",
    "        # Transform input tokens \n",
    "        #inputs = tokenizer(\"Hello world\" , return_tensors=\"pt\")\n",
    "\n",
    "        with torch.no_grad():        \n",
    "            outputs = model(**inputs)\n",
    "            \n",
    "        loss = outputs[0]\n",
    "        logits = outputs[1]\n",
    "        loss_val_total += loss.item()\n",
    "\n",
    "        logits = logits.detach().cpu().numpy()\n",
    "        label_ids = inputs['labels'].cpu().numpy()\n",
    "        predictions.append(logits)\n",
    "        true_vals.append(label_ids)\n",
    "    \n",
    "    loss_val_avg = loss_val_total/len(dataloader_val) \n",
    "    \n",
    "    predictions = np.concatenate(predictions, axis=0)\n",
    "    true_vals = np.concatenate(true_vals, axis=0)\n",
    "            \n",
    "    return loss_val_avg, predictions, true_vals"
   ]
  },
  {
   "cell_type": "code",
   "execution_count": 30,
   "metadata": {},
   "outputs": [
    {
     "data": {
      "application/vnd.jupyter.widget-view+json": {
       "model_id": "4d556a6fa52e4d95bc8066577bb6ab6a",
       "version_major": 2,
       "version_minor": 0
      },
      "text/plain": [
       "  0%|          | 0/10 [00:00<?, ?it/s]"
      ]
     },
     "metadata": {},
     "output_type": "display_data"
    },
    {
     "data": {
      "application/vnd.jupyter.widget-view+json": {
       "model_id": "9c9b574ab78a4541baf45953c8eddad2",
       "version_major": 2,
       "version_minor": 0
      },
      "text/plain": [
       "Epoch 1:   0%|          | 0/300 [00:00<?, ?it/s]"
      ]
     },
     "metadata": {},
     "output_type": "display_data"
    },
    {
     "name": "stdout",
     "output_type": "stream",
     "text": [
      "\n",
      "Epoch 1\n",
      "Training loss: 0.6894742091496785\n"
     ]
    },
    {
     "data": {
      "application/vnd.jupyter.widget-view+json": {
       "model_id": "66356269345541598ea54b8c86954e1a",
       "version_major": 2,
       "version_minor": 0
      },
      "text/plain": [
       "  0%|          | 0/75 [00:00<?, ?it/s]"
      ]
     },
     "metadata": {},
     "output_type": "display_data"
    },
    {
     "name": "stdout",
     "output_type": "stream",
     "text": [
      "Validation loss: 0.5878848540782928\n",
      "F1 Score (weighted) 0.7576\n"
     ]
    },
    {
     "data": {
      "application/vnd.jupyter.widget-view+json": {
       "model_id": "94aead17f7054ae598944412b2eaf45f",
       "version_major": 2,
       "version_minor": 0
      },
      "text/plain": [
       "Epoch 2:   0%|          | 0/300 [00:00<?, ?it/s]"
      ]
     },
     "metadata": {},
     "output_type": "display_data"
    },
    {
     "name": "stdout",
     "output_type": "stream",
     "text": [
      "\n",
      "Epoch 2\n",
      "Training loss: 0.6375408027569452\n"
     ]
    },
    {
     "data": {
      "application/vnd.jupyter.widget-view+json": {
       "model_id": "9b1cd26e4c6045d09b0e3f6afd2ed8b9",
       "version_major": 2,
       "version_minor": 0
      },
      "text/plain": [
       "  0%|          | 0/75 [00:00<?, ?it/s]"
      ]
     },
     "metadata": {},
     "output_type": "display_data"
    },
    {
     "name": "stdout",
     "output_type": "stream",
     "text": [
      "Validation loss: 0.5113609530528387\n",
      "F1 Score (weighted) 0.734664801559547\n"
     ]
    },
    {
     "data": {
      "application/vnd.jupyter.widget-view+json": {
       "model_id": "132f0765d7fd43e1a264d45928fc68c6",
       "version_major": 2,
       "version_minor": 0
      },
      "text/plain": [
       "Epoch 3:   0%|          | 0/300 [00:00<?, ?it/s]"
      ]
     },
     "metadata": {},
     "output_type": "display_data"
    },
    {
     "name": "stdout",
     "output_type": "stream",
     "text": [
      "\n",
      "Epoch 3\n",
      "Training loss: 0.5682287361224493\n"
     ]
    },
    {
     "data": {
      "application/vnd.jupyter.widget-view+json": {
       "model_id": "e800e66d52304e649f5ad478d9982302",
       "version_major": 2,
       "version_minor": 0
      },
      "text/plain": [
       "  0%|          | 0/75 [00:00<?, ?it/s]"
      ]
     },
     "metadata": {},
     "output_type": "display_data"
    },
    {
     "name": "stdout",
     "output_type": "stream",
     "text": [
      "Validation loss: 0.6329750470320383\n",
      "F1 Score (weighted) 0.667221989966555\n"
     ]
    },
    {
     "data": {
      "application/vnd.jupyter.widget-view+json": {
       "model_id": "1f4658dc55ba4534a6e254c24a9aac06",
       "version_major": 2,
       "version_minor": 0
      },
      "text/plain": [
       "Epoch 4:   0%|          | 0/300 [00:00<?, ?it/s]"
      ]
     },
     "metadata": {},
     "output_type": "display_data"
    },
    {
     "name": "stdout",
     "output_type": "stream",
     "text": [
      "\n",
      "Epoch 4\n",
      "Training loss: 0.5514269622663657\n"
     ]
    },
    {
     "data": {
      "application/vnd.jupyter.widget-view+json": {
       "model_id": "f7dc584ef49f47d99d3c9c34f3bbd847",
       "version_major": 2,
       "version_minor": 0
      },
      "text/plain": [
       "  0%|          | 0/75 [00:00<?, ?it/s]"
      ]
     },
     "metadata": {},
     "output_type": "display_data"
    },
    {
     "name": "stdout",
     "output_type": "stream",
     "text": [
      "Validation loss: 0.6301666369040807\n",
      "F1 Score (weighted) 0.7318629295830444\n"
     ]
    },
    {
     "data": {
      "application/vnd.jupyter.widget-view+json": {
       "model_id": "254d3d05347d403ebbddb07e564cc0ed",
       "version_major": 2,
       "version_minor": 0
      },
      "text/plain": [
       "Epoch 5:   0%|          | 0/300 [00:00<?, ?it/s]"
      ]
     },
     "metadata": {},
     "output_type": "display_data"
    },
    {
     "name": "stdout",
     "output_type": "stream",
     "text": [
      "\n",
      "Epoch 5\n",
      "Training loss: 0.51512697207431\n"
     ]
    },
    {
     "data": {
      "application/vnd.jupyter.widget-view+json": {
       "model_id": "1a14365d35004dc7861ae24a8bc734f0",
       "version_major": 2,
       "version_minor": 0
      },
      "text/plain": [
       "  0%|          | 0/75 [00:00<?, ?it/s]"
      ]
     },
     "metadata": {},
     "output_type": "display_data"
    },
    {
     "name": "stdout",
     "output_type": "stream",
     "text": [
      "Validation loss: 0.4823368733127912\n",
      "F1 Score (weighted) 0.813905553905554\n"
     ]
    },
    {
     "data": {
      "application/vnd.jupyter.widget-view+json": {
       "model_id": "9ab86bc121b84fcd9975f163692d41b3",
       "version_major": 2,
       "version_minor": 0
      },
      "text/plain": [
       "Epoch 6:   0%|          | 0/300 [00:00<?, ?it/s]"
      ]
     },
     "metadata": {},
     "output_type": "display_data"
    },
    {
     "name": "stdout",
     "output_type": "stream",
     "text": [
      "\n",
      "Epoch 6\n",
      "Training loss: 0.5359293523182471\n"
     ]
    },
    {
     "data": {
      "application/vnd.jupyter.widget-view+json": {
       "model_id": "6bfd7dde7bf54b4ca92350c0eb9d9097",
       "version_major": 2,
       "version_minor": 0
      },
      "text/plain": [
       "  0%|          | 0/75 [00:00<?, ?it/s]"
      ]
     },
     "metadata": {},
     "output_type": "display_data"
    },
    {
     "name": "stdout",
     "output_type": "stream",
     "text": [
      "Validation loss: 0.6274337137738863\n",
      "F1 Score (weighted) 0.7595973154362416\n"
     ]
    },
    {
     "data": {
      "application/vnd.jupyter.widget-view+json": {
       "model_id": "37d0d649fa604967a3c8f39c2a27f501",
       "version_major": 2,
       "version_minor": 0
      },
      "text/plain": [
       "Epoch 7:   0%|          | 0/300 [00:00<?, ?it/s]"
      ]
     },
     "metadata": {},
     "output_type": "display_data"
    },
    {
     "name": "stdout",
     "output_type": "stream",
     "text": [
      "\n",
      "Epoch 7\n",
      "Training loss: 0.49556767363101245\n"
     ]
    },
    {
     "data": {
      "application/vnd.jupyter.widget-view+json": {
       "model_id": "a3254c2888ee4cccb45c084f39ed0945",
       "version_major": 2,
       "version_minor": 0
      },
      "text/plain": [
       "  0%|          | 0/75 [00:00<?, ?it/s]"
      ]
     },
     "metadata": {},
     "output_type": "display_data"
    },
    {
     "name": "stdout",
     "output_type": "stream",
     "text": [
      "Validation loss: 0.6597299925982952\n",
      "F1 Score (weighted) 0.7638933189169709\n"
     ]
    },
    {
     "data": {
      "application/vnd.jupyter.widget-view+json": {
       "model_id": "6c161c36ab1d453383e8e1f82af2fedf",
       "version_major": 2,
       "version_minor": 0
      },
      "text/plain": [
       "Epoch 8:   0%|          | 0/300 [00:00<?, ?it/s]"
      ]
     },
     "metadata": {},
     "output_type": "display_data"
    },
    {
     "name": "stdout",
     "output_type": "stream",
     "text": [
      "\n",
      "Epoch 8\n",
      "Training loss: 0.5344523408139745\n"
     ]
    },
    {
     "data": {
      "application/vnd.jupyter.widget-view+json": {
       "model_id": "7467ad6a88e44e778d82bdfd55a76011",
       "version_major": 2,
       "version_minor": 0
      },
      "text/plain": [
       "  0%|          | 0/75 [00:00<?, ?it/s]"
      ]
     },
     "metadata": {},
     "output_type": "display_data"
    },
    {
     "name": "stdout",
     "output_type": "stream",
     "text": [
      "Validation loss: 0.5610598502556483\n",
      "F1 Score (weighted) 0.7952816731335834\n"
     ]
    },
    {
     "data": {
      "application/vnd.jupyter.widget-view+json": {
       "model_id": "8dac8af13f3c4a62b87609c19f125c4d",
       "version_major": 2,
       "version_minor": 0
      },
      "text/plain": [
       "Epoch 9:   0%|          | 0/300 [00:00<?, ?it/s]"
      ]
     },
     "metadata": {},
     "output_type": "display_data"
    },
    {
     "name": "stdout",
     "output_type": "stream",
     "text": [
      "\n",
      "Epoch 9\n",
      "Training loss: 0.5523943793773651\n"
     ]
    },
    {
     "data": {
      "application/vnd.jupyter.widget-view+json": {
       "model_id": "cae8c28423be4e77bc523e1db1f89f15",
       "version_major": 2,
       "version_minor": 0
      },
      "text/plain": [
       "  0%|          | 0/75 [00:00<?, ?it/s]"
      ]
     },
     "metadata": {},
     "output_type": "display_data"
    },
    {
     "name": "stdout",
     "output_type": "stream",
     "text": [
      "Validation loss: 0.5789682232340176\n",
      "F1 Score (weighted) 0.7872844827586207\n"
     ]
    },
    {
     "data": {
      "application/vnd.jupyter.widget-view+json": {
       "model_id": "23fd75ac550546088edeb168f66e7551",
       "version_major": 2,
       "version_minor": 0
      },
      "text/plain": [
       "Epoch 10:   0%|          | 0/300 [00:00<?, ?it/s]"
      ]
     },
     "metadata": {},
     "output_type": "display_data"
    },
    {
     "name": "stdout",
     "output_type": "stream",
     "text": [
      "\n",
      "Epoch 10\n",
      "Training loss: 0.5207747245952487\n"
     ]
    },
    {
     "data": {
      "application/vnd.jupyter.widget-view+json": {
       "model_id": "c5dc71cff0e147ddb9bc29f129a16e79",
       "version_major": 2,
       "version_minor": 0
      },
      "text/plain": [
       "  0%|          | 0/75 [00:00<?, ?it/s]"
      ]
     },
     "metadata": {},
     "output_type": "display_data"
    },
    {
     "name": "stdout",
     "output_type": "stream",
     "text": [
      "Validation loss: 0.5805882198611895\n",
      "F1 Score (weighted) 0.7872844827586207\n"
     ]
    }
   ],
   "source": [
    "#%%time\n",
    "model_name='Clinical_Longform_balanced_'+coi #+str(right)+'-'+str(left) \n",
    "\n",
    "val_losses=[]\n",
    "val_f1_scores=[]\n",
    "best_val_loss = np.inf\n",
    "\n",
    "for epoch in tqdm(range(1, epochs+1)):\n",
    "    model.train()\n",
    "    loss_train_total=0\n",
    "    progress_bar=tqdm(dataloader_train, desc='Epoch {:1d}'.format(epoch),\n",
    "                     leave=False,\n",
    "                     disable=False)\n",
    "    for batch in progress_bar:\n",
    "        model.zero_grad()#set gradients to zero; use for transformer; not used for default rnn\n",
    "        batch=tuple(b.to(device) for b in batch) #important if using gpu\n",
    "        inputs={ #what goes into the model\n",
    "            'input_ids': batch[0],\n",
    "            'attention_mask': batch[1], #the attention mask tells the model which inputs are padded, i.e. which tokens to pay attention to\n",
    "            'labels': batch[2]\n",
    "        } \n",
    "        outputs= model(**inputs) #unpacks dictionary and runs model\n",
    "        # outputs = model(\n",
    "        #     input_ids=inputs['input_ids'],\n",
    "        #     attention_mask=inputs['attention_mask'],\n",
    "        #     labels=inputs['labels']\n",
    "        # )\n",
    "        # _, preds = torch.max(outputs, dim=1)\n",
    "        \n",
    "        loss=outputs[0] #outputs of zero are the loss\n",
    "        loss_train_total+=loss.item() #add up the loss\n",
    "        loss.backward() #backpropagation \n",
    "        #logits hidden layer units\n",
    "        #clip gradients with provided norm value=1, prevents them from becoming too small or large\n",
    "        #helps generalize model\n",
    "        torch.nn.utils.clip_grad_norm_(model.parameters(), 1.0) #all weights will have norm of 1\n",
    "        optimizer.step()\n",
    "        scheduler.step()\n",
    "        #average sample loss\n",
    "        progress_bar.set_postfix({'training_loss': '{:.3f}'.format(loss.item()/len(batch))})\n",
    "    #save all models, every epoch\n",
    "    tqdm.write(f'\\nEpoch {epoch}')\n",
    "    loss_train_avg= loss_train_total/len(dataloader_train)\n",
    "    tqdm.write(f'Training loss: {loss_train_avg}')\n",
    "    val_loss, predictions, true_vals=evaluate(dataloader_val) #doesn't change gradients\n",
    "    val_f1=f1_score_func(predictions, true_vals)\n",
    "    tqdm.write(f'Validation loss: {val_loss}')\n",
    "    tqdm.write(f'F1 Score (weighted) {val_f1}')\n",
    "    val_losses.append(val_loss)\n",
    "    val_f1_scores.append(val_f1)\n",
    "    if val_loss<best_val_loss: # save best model only\n",
    "        torch.save(model.state_dict(), f'/mind_data/jeej/models/{model_name}.model') #save each fine tuned model\n",
    "    "
   ]
  },
  {
   "cell_type": "markdown",
   "metadata": {},
   "source": [
    "# evaluate model properties"
   ]
  },
  {
   "cell_type": "code",
   "execution_count": 56,
   "metadata": {},
   "outputs": [
    {
     "data": {
      "text/plain": [
       "<All keys matched successfully>"
      ]
     },
     "execution_count": 56,
     "metadata": {},
     "output_type": "execute_result"
    }
   ],
   "source": [
    "model_name='Clinical_Longform_balanced_'+coi\n",
    "model.load_state_dict(torch.load(\"/mind_data/jeej/models/\"+model_name+'.model'))"
   ]
  },
  {
   "cell_type": "code",
   "execution_count": 31,
   "metadata": {},
   "outputs": [],
   "source": [
    "# create validation set that does NOT exclude patients without correct interval follow-up\n",
    "encoded_data_val_master=tokenizer.batch_encode_plus(\n",
    "    df_final[df_final.data_type=='val'].text.values,\n",
    "    add_special_tokens=True, #BERT's way of knowing when a sentence ends/begins\n",
    "    return_attention_mask=True, #B/c using fixed input; set max_length to 6K\n",
    "    #pad_to_max_length=True,\n",
    "    padding='max_length',\n",
    "    truncation=True,\n",
    "    max_length= 2000, #4096, #512, #6000, #A document won't have more than 6K words #Note, if this is 'None', will truncate words to 512\n",
    "    return_tensors='pt' #For using pytorch; tensorflow another option\n",
    ")\n",
    "\n",
    "#Bert requires input ids, attention masks, and training labels\n",
    "input_ids_val_master=encoded_data_val_master['input_ids'] #represents each word as a number\n",
    "attention_masks_val_master=encoded_data_val_master['attention_mask'] #pytorch tensor\n",
    "labels_val_master= torch.tensor(df_final[df_final.data_type=='val']['labels'].astype(int).values)\n",
    "\n",
    "dataset_val_master=TensorDataset(input_ids_val_master, attention_masks_val_master, labels_val_master)\n",
    "\n",
    "dataloader_val_master=DataLoader(\n",
    "    dataset_val_master,\n",
    "    sampler=SequentialSampler(dataset_val_master), \n",
    "    batch_size=batch_size #32 #fine bc not computationally heavy w/ backpropagation etc.\n",
    ")"
   ]
  },
  {
   "cell_type": "code",
   "execution_count": 32,
   "metadata": {},
   "outputs": [
    {
     "data": {
      "application/vnd.jupyter.widget-view+json": {
       "model_id": "6ee0b5fb77634321bbb1b4bad35664d5",
       "version_major": 2,
       "version_minor": 0
      },
      "text/plain": [
       "  0%|          | 0/75 [00:00<?, ?it/s]"
      ]
     },
     "metadata": {},
     "output_type": "display_data"
    },
    {
     "name": "stdout",
     "output_type": "stream",
     "text": [
      "0.7872844827586207\n",
      "Class: alive\n",
      "Accuracy: 197/249; 0.7911646586345381\n",
      "\n",
      "Class: died\n",
      "Accuracy: 33/51; 0.6470588235294118\n",
      "\n"
     ]
    },
    {
     "name": "stderr",
     "output_type": "stream",
     "text": [
      "/tmp/ipykernel_2616261/3591888957.py:3: UserWarning: Implicit dimension choice for softmax has been deprecated. Change the call to include dim=X as an argument.\n",
      "  probabilities = torch.nn.functional.softmax(torch.from_numpy(predictions)) # convert from logit to probabilities\n"
     ]
    }
   ],
   "source": [
    "# apply model\n",
    "val_loss, predictions, true_vals=evaluate(dataloader_val_master)\n",
    "probabilities = torch.nn.functional.softmax(torch.from_numpy(predictions)) # convert from logit to probabilities\n",
    "\n",
    "print(f1_score_func(predictions, true_vals))\n",
    "accuracy_per_class(predictions, true_vals, {'died':1,'alive':0})"
   ]
  },
  {
   "cell_type": "code",
   "execution_count": 34,
   "metadata": {},
   "outputs": [
    {
     "data": {
      "application/vnd.jupyter.widget-view+json": {
       "model_id": "6eb77a24c7f54e01a7c845a394590cfa",
       "version_major": 2,
       "version_minor": 0
      },
      "text/plain": [
       "  0%|          | 0/264 [00:00<?, ?it/s]"
      ]
     },
     "metadata": {},
     "output_type": "display_data"
    },
    {
     "name": "stderr",
     "output_type": "stream",
     "text": [
      "/tmp/ipykernel_2616261/3962660379.py:30: UserWarning: Implicit dimension choice for softmax has been deprecated. Change the call to include dim=X as an argument.\n",
      "  probabilities = torch.nn.functional.softmax(torch.from_numpy(predictions)) # convert from logit to probabilities\n"
     ]
    }
   ],
   "source": [
    "# deploy model on held out patients with time-matched CT and sequencing\n",
    "\n",
    "# create validation set that does NOT exclude patients without correct interval follow-up\n",
    "encoded_data_val_master=tokenizer.batch_encode_plus(\n",
    "    df_seqAnchor.RRPT_REPORT_TXT.values,\n",
    "    add_special_tokens=True, #BERT's way of knowing when a sentence ends/begins\n",
    "    return_attention_mask=True, #B/c using fixed input; set max_length to 6K\n",
    "    #pad_to_max_length=True,\n",
    "    padding='max_length',\n",
    "    truncation=True,\n",
    "    max_length= 2000, #4096, #512, #6000, #A document won't have more than 6K words #Note, if this is 'None', will truncate words to 512\n",
    "    return_tensors='pt' #For using pytorch; tensorflow another option\n",
    ")\n",
    "\n",
    "#Bert requires input ids, attention masks, and training labels\n",
    "input_ids_val_master=encoded_data_val_master['input_ids'] #represents each word as a number\n",
    "attention_masks_val_master=encoded_data_val_master['attention_mask'] #pytorch tensor\n",
    "df_seqAnchor['labels'] = 0 # dummy labels\n",
    "labels_val_master= torch.tensor(df_seqAnchor['labels'].astype(int).values)\n",
    "\n",
    "dataset_val_master=TensorDataset(input_ids_val_master, attention_masks_val_master, labels_val_master)\n",
    "\n",
    "dataloader_val_master=DataLoader(\n",
    "    dataset_val_master,\n",
    "    sampler=SequentialSampler(dataset_val_master), \n",
    "    batch_size=batch_size #32 #fine bc not computationally heavy w/ backpropagation etc.\n",
    ")\n",
    "\n",
    "val_loss, predictions, true_vals=evaluate(dataloader_val_master)\n",
    "probabilities = torch.nn.functional.softmax(torch.from_numpy(predictions)) # convert from logit to probabilities\n",
    "\n",
    "df_seqAnchor['probabilities'] = list(probabilities[:,0])\n",
    "df_seqAnchor[['PATIENT_ID','probabilities']].to_csv('stone_soup_dataframes/radBERT6M_probabilities_'+coi+'.csv',index=False)"
   ]
  },
  {
   "cell_type": "code",
   "execution_count": 35,
   "metadata": {},
   "outputs": [
    {
     "data": {
      "text/plain": [
       "(0.0, 1.0)"
      ]
     },
     "execution_count": 35,
     "metadata": {},
     "output_type": "execute_result"
    },
    {
     "data": {
      "image/png": "[encoded data removed]",
      "text/plain": [
       "<Figure size 640x480 with 1 Axes>"
      ]
     },
     "metadata": {},
     "output_type": "display_data"
    }
   ],
   "source": [
    "from lifelines import KaplanMeierFitter\n",
    "\n",
    "mask = df_seqAnchor['STAGE_IV_DX'].astype(bool)\n",
    "df_km = df_seqAnchor#[mask]\n",
    "\n",
    "fig,ax=plt.subplots()\n",
    "\n",
    "stepsize = 0.3334\n",
    "for start in np.arange(0,1,stepsize):\n",
    "    stop = start+stepsize\n",
    "    kmf1 = KaplanMeierFitter()\n",
    "    df_km1 = df_km[np.array(df_km['probabilities']>=start) & np.array(df_km['probabilities']<stop)]\n",
    "    kmf1.fit(df_km1['stop'], df_km1['dead'], label='p(interval survival) = '+str(start)+'-'+str(stop))\n",
    "    kmf1.plot(ax=ax,ci_show=False)\n",
    "\n",
    "# Set Y axis to fixed scale\n",
    "ax.set_ylim([0.0, 1.0])"
   ]
  },
  {
   "cell_type": "code",
   "execution_count": 36,
   "metadata": {},
   "outputs": [
    {
     "data": {
      "text/plain": [
       "(0.6286189671875506, 174548, 103121, 0, 55)"
      ]
     },
     "execution_count": 36,
     "metadata": {},
     "output_type": "execute_result"
    }
   ],
   "source": [
    "from sksurv.metrics import concordance_index_censored\n",
    "\n",
    "concordance_index_censored(df_km['dead'].astype(bool), df_km['stop'], 1-df_km['probabilities'])"
   ]
  }
 ],
 "metadata": {
  "kernelspec": {
   "display_name": "venv3_10",
   "language": "python",
   "name": "venv3_10"
  },
  "language_info": {
   "codemirror_mode": {
    "name": "ipython",
    "version": 3
   },
   "file_extension": ".py",
   "mimetype": "text/x-python",
   "name": "python",
   "nbconvert_exporter": "python",
   "pygments_lexer": "ipython3",
   "version": "3.10.10"
  }
 },
 "nbformat": 4,
 "nbformat_minor": 4
}
